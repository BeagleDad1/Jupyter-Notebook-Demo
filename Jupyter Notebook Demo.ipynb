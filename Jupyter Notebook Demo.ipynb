{
 "cells": [
  {
   "cell_type": "markdown",
   "metadata": {},
   "source": [
    "# Jupyter Notebook Demo\n",
    "Here I will show a few of the basic data visualation and minipulation tools available with Python Pandas.\n",
    "\n",
    "Here is a Pandas [cheatsheet](https://assets.datacamp.com/blog_assets/PandasPythonForDataScience.pdf)\n",
    "\n",
    "I grabbed one year of electricity data for demonstration purposes. **production** means solar production during the given interval in watthours. **consumption** means the electricity consumed by the house in watthours. The goal will be to simply examine the data more closely. Sources:\n",
    "* [Production](http://www.soda-is.com/eng/services/services_radiation_free_eng.php)\n",
    "* [Consumption](http://www.smartgridaustralia.com.au/)"
   ]
  },
  {
   "cell_type": "code",
   "execution_count": null,
   "metadata": {
    "collapsed": true
   },
   "outputs": [],
   "source": [
    "import pandas as pd"
   ]
  },
  {
   "cell_type": "markdown",
   "metadata": {},
   "source": [
    "## Read data from csv\n",
    "By default, notebooks display about 30 rows from the start and 30 rows from the end of the tabulated data."
   ]
  },
  {
   "cell_type": "code",
   "execution_count": null,
   "metadata": {
    "collapsed": false
   },
   "outputs": [],
   "source": [
    "df = pd.read_csv('data.csv', index_col=0, parse_dates=[0])\n",
    "df"
   ]
  },
  {
   "cell_type": "markdown",
   "metadata": {},
   "source": [
    "We can use `DataFrame.head(n)` and `DataFrame.tail(n)` to display the `n` rows at the beginning or end. Note that when you use `print()` you don't get the nice table output."
   ]
  },
  {
   "cell_type": "code",
   "execution_count": null,
   "metadata": {
    "collapsed": false
   },
   "outputs": [],
   "source": [
    "print(\"Head of df\")\n",
    "print(df.head(10))\n",
    "print(\"\\nTail of df\")\n",
    "df.tail(10)"
   ]
  },
  {
   "cell_type": "markdown",
   "metadata": {},
   "source": [
    "We can see that we have one year of data in 30 minute incriments from the year 2013.\n",
    "\n",
    "# Plot the data\n",
    "Jupyter supports two options for plotting with matplotlib, *inline* (static) and *notebook* (interactive)."
   ]
  },
  {
   "cell_type": "code",
   "execution_count": null,
   "metadata": {
    "collapsed": false
   },
   "outputs": [],
   "source": [
    "%matplotlib inline\n",
    "df.plot()"
   ]
  },
  {
   "cell_type": "markdown",
   "metadata": {},
   "source": [
    "Crap. Something looks funny with the production data. What's going on?! Let's use an interactive plot so we can zoom in."
   ]
  },
  {
   "cell_type": "code",
   "execution_count": null,
   "metadata": {
    "collapsed": false
   },
   "outputs": [],
   "source": [
    "%matplotlib notebook\n",
    "df.plot(subplots=True) #figsize=(13,8)\n",
    "df.describe()"
   ]
  },
  {
   "cell_type": "markdown",
   "metadata": {},
   "source": [
    "Looks like some missing data! Let's look at production data with the value of -999."
   ]
  },
  {
   "cell_type": "code",
   "execution_count": null,
   "metadata": {
    "collapsed": false
   },
   "outputs": [],
   "source": [
    "df['production'][df['production'] == -999].describe()"
   ]
  },
  {
   "cell_type": "markdown",
   "metadata": {},
   "source": [
    "Ruhroh. 154 missing data points! And now the eternal question of how to handle missing data. Set to NaN? Set to 0? Throw it out completely? I'll set to 0 for now."
   ]
  },
  {
   "cell_type": "code",
   "execution_count": null,
   "metadata": {
    "collapsed": false
   },
   "outputs": [],
   "source": [
    "df.loc[df.production == -999, 'production'] = 0\n",
    "df.describe()"
   ]
  },
  {
   "cell_type": "markdown",
   "metadata": {},
   "source": [
    "Be careful! This edits the variable `df` in the kernel, so all cells now use this updated `df`. Rerun the plotting cells above to see the difference.\n",
    "\n",
    "## Save this notebook!\n",
    "*File* --> *Download As*"
   ]
  }
 ],
 "metadata": {
  "kernelspec": {
   "display_name": "Python 3",
   "language": "python",
   "name": "python3"
  },
  "language_info": {
   "codemirror_mode": {
    "name": "ipython",
    "version": 3
   },
   "file_extension": ".py",
   "mimetype": "text/x-python",
   "name": "python",
   "nbconvert_exporter": "python",
   "pygments_lexer": "ipython3",
   "version": "3.5.2"
  }
 },
 "nbformat": 4,
 "nbformat_minor": 0
}
